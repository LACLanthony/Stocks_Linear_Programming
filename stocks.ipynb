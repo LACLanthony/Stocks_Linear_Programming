{
  "nbformat": 4,
  "nbformat_minor": 0,
  "metadata": {
    "colab": {
      "provenance": []
    },
    "kernelspec": {
      "name": "python3",
      "display_name": "Python 3"
    },
    "language_info": {
      "name": "python"
    }
  },
  "cells": [
    {
      "cell_type": "code",
      "execution_count": 5,
      "metadata": {
        "id": "XkYMiisLCy9P"
      },
      "outputs": [],
      "source": [
        "import pandas as pd\n",
        "import numpy as np\n",
        "import pulp \n",
        "from pulp import *"
      ]
    },
    {
      "cell_type": "code",
      "source": [
        "prob = LpProblem('Stocks', LpMinimize)\n",
        "\n",
        "x1 = LpVariable('Cisco', lowBound = 0, upBound = 80000)\n",
        "x2 = LpVariable('Microsoft', lowBound = 0, upBound = 80000)\n",
        "x3 = LpVariable('Intel', lowBound = 0, upBound = 80000)\n",
        "x4 = LpVariable('BofA', lowBound = 0, upBound = 80000)\n",
        "x5 = LpVariable('FirstBank', lowBound = 0, upBound = 80000)\n",
        "x6  = LpVariable('ING', lowBound = 40000, upBound = 80000)\n",
        "\n",
        "# objective function\n",
        "prob+= 14.02*x1 + 10.57*x2 + 13.22*x3 + 9.36*x4 + 7.61*x5 + 2.39*x6\n",
        "\n",
        "# constraints\n",
        "prob += x1 + x2 + x3 + x4 + x5 + x6 == 150000, \"Portfolio\"\n",
        "prob += 0.08*x1 + 0.06*x2 + 0.05*x3 + 0.07*x4 + 0.04*x5 + 0.02*x6 >= 0.06 * 150000, \"Return\"\n",
        "prob += x4 + x5 >= x1 + x2 + x3, \"Balance\""
      ],
      "metadata": {
        "id": "ygJebGG3fEUH"
      },
      "execution_count": 12,
      "outputs": []
    },
    {
      "cell_type": "code",
      "source": [
        "prob.solve()\n",
        "print(\"status: \" + LpStatus[prob.status])\n",
        "\n",
        "for variable in prob.variables():\n",
        "  print(\"{} * = {}\" .format(variable.name, variable.varValue))\n",
        "\n",
        "print(value(prob.objective))"
      ],
      "metadata": {
        "colab": {
          "base_uri": "https://localhost:8080/"
        },
        "id": "2aBGo6rqC71g",
        "outputId": "80ca993d-f1c2-455d-e017-e9f35160147d"
      },
      "execution_count": 13,
      "outputs": [
        {
          "output_type": "stream",
          "name": "stdout",
          "text": [
            "status: Optimal\n",
            "BofA * = 60000.0\n",
            "Cisco * = 50000.0\n",
            "FirstBank * = 0.0\n",
            "ING * = 40000.0\n",
            "Intel * = 0.0\n",
            "Microsoft * = 0.0\n",
            "1358200.0\n"
          ]
        }
      ]
    },
    {
      "cell_type": "code",
      "source": [
        "# Binding Constraints/ Slack \n",
        "\n",
        "for name, c in prob.constraints.items():\n",
        "  print(\"\\n\", name, \":\", c, \", Slack = \", c.slack, \", Shadow Price=\", c.pi)"
      ],
      "metadata": {
        "colab": {
          "base_uri": "https://localhost:8080/"
        },
        "id": "GVsW-bs9D1RZ",
        "outputId": "ff3d073b-3db1-4d67-e7e9-8eb2cfe81304"
      },
      "execution_count": 14,
      "outputs": [
        {
          "output_type": "stream",
          "name": "stdout",
          "text": [
            "\n",
            " Portfolio : BofA + Cisco + FirstBank + ING + Intel + Microsoft = 150000 , Slack =  -0.0 , Shadow Price= -23.26\n",
            "\n",
            " Return : 0.07*BofA + 0.08*Cisco + 0.04*FirstBank + 0.02*ING + 0.05*Intel + 0.06*Microsoft >= 9000.0 , Slack =  -0.0 , Shadow Price= 466.0\n",
            "\n",
            " Balance : BofA - Cisco + FirstBank - Intel - Microsoft >= 0 , Slack =  -10000.0 , Shadow Price= 0.0\n"
          ]
        }
      ]
    },
    {
      "cell_type": "code",
      "source": [
        "for v in prob.variables():\n",
        "  print(\"\\n\", v.name, \"=\", v.varValue, \", Reuced Cost=\", v.dj)"
      ],
      "metadata": {
        "colab": {
          "base_uri": "https://localhost:8080/"
        },
        "id": "PCqkP5ODD2wC",
        "outputId": "f5d052a1-74f0-4ff9-d28f-2100147ce457"
      },
      "execution_count": 15,
      "outputs": [
        {
          "output_type": "stream",
          "name": "stdout",
          "text": [
            "\n",
            " BofA = 60000.0 , Reuced Cost= 0.0\n",
            "\n",
            " Cisco = 50000.0 , Reuced Cost= 0.0\n",
            "\n",
            " FirstBank = 0.0 , Reuced Cost= 12.23\n",
            "\n",
            " ING = 40000.0 , Reuced Cost= 16.33\n",
            "\n",
            " Intel = 0.0 , Reuced Cost= 13.18\n",
            "\n",
            " Microsoft = 0.0 , Reuced Cost= 5.87\n"
          ]
        }
      ]
    }
  ]
}


